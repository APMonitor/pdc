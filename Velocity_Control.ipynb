{
 "cells": [
  {
   "cell_type": "markdown",
   "metadata": {},
   "source": [
    "### Automotive Velocity Control\n",
    "\n",
    "A self-driving car company has requested a speed controller for their new model of electric autonomous vehicles. Unlike standard cruise control systems, this speed controller must manage transitions between all velocities ranging from 0 to 25 m/s (56 mph or 90 km/hr).\n",
    "\n",
    "![title](https://apmonitor.com/pdc/uploads/Main/auto_schematic.png)\n",
    "\n",
    "\n",
    "The speed controller changes a gas pedal (%) input that adjusts electrical current to the motor, creates a torque on the drive train, applies forward thrust from wheel contact on the road, and changes the velocity of the vehicle. Regenerative braking is part of this application by allowing the gas pedal to go from -50% to 100%. Decreases in velocity are also due to resistive forces. Negative velocities (backwards driving) is highly undesirable.\n",
    "\n",
    "See [PDC Course Website](https://apmonitor.com/pdc/index.php/Main/SpeedControl) for full problem statement and [solution video](https://youtu.be/k46nCvOBllA). Below is an open-loop step test for changing the gas pedal from 0 to 50%."
   ]
  },
  {
   "cell_type": "code",
   "execution_count": 1,
   "metadata": {},
   "outputs": [
    {
     "data": {
      "image/png": "[encoded data removed]",
      "text/plain": [
       "<Figure size 432x288 with 2 Axes>"
      ]
     },
     "metadata": {
      "needs_background": "light"
     },
     "output_type": "display_data"
    }
   ],
   "source": [
    "import numpy as np\n",
    "import matplotlib.pyplot as plt\n",
    "from scipy.integrate import odeint\n",
    "from IPython import display\n",
    "\n",
    "# animate plots?\n",
    "animate=True # True / False\n",
    "\n",
    "# define model\n",
    "def vehicle(v,t,u,load):\n",
    "    # inputs\n",
    "    #  v    = vehicle velocity (m/s)\n",
    "    #  t    = time (sec)\n",
    "    #  u    = gas pedal position (-50% to 100%)\n",
    "    #  load = passenger load + cargo (kg)\n",
    "    Cd = 0.24    # drag coefficient\n",
    "    rho = 1.225  # air density (kg/m^3)\n",
    "    A = 5.0      # cross-sectional area (m^2)\n",
    "    Fp = 30      # thrust parameter (N/%pedal)\n",
    "    m = 500      # vehicle mass (kg)\n",
    "    # calculate derivative of the velocity\n",
    "    dv_dt = (1.0/(m+load)) * (Fp*u - 0.5*rho*Cd*A*v**2)\n",
    "    return dv_dt\n",
    "\n",
    "tf = 60.0                 # final time for simulation\n",
    "nsteps = 61               # number of time steps\n",
    "delta_t = tf/(nsteps-1)   # how long is each time step?\n",
    "ts = np.linspace(0,tf,nsteps) # linearly spaced time vector\n",
    "\n",
    "# simulate step test operation\n",
    "step = np.zeros(nsteps) # u = valve % open\n",
    "step[11:] = 50.0       # step up pedal position\n",
    "# passenger(s) + cargo load\n",
    "load = 200.0 # kg\n",
    "# velocity initial condition\n",
    "v0 = 0.0\n",
    "# set point\n",
    "sp = 25.0\n",
    "# for storing the results\n",
    "vs = np.zeros(nsteps)\n",
    "sps = np.zeros(nsteps)\n",
    "\n",
    "plt.figure(1,figsize=(5,4))\n",
    "if animate:\n",
    "    plt.ion()\n",
    "    plt.show()\n",
    "\n",
    "# simulate with ODEINT\n",
    "for i in range(nsteps-1):\n",
    "    u = step[i]\n",
    "    # clip inputs to -50% to 100%\n",
    "    if u >= 100.0:\n",
    "        u = 100.0\n",
    "    if u <= -50.0:\n",
    "        u = -50.0\n",
    "    v = odeint(vehicle,v0,[0,delta_t],args=(u,load))\n",
    "    v0 = v[-1]   # take the last value\n",
    "    vs[i+1] = v0 # store the velocity for plotting\n",
    "    sps[i+1] = sp\n",
    "\n",
    "    # plot results\n",
    "    if animate:\n",
    "        display.clear_output(wait=True)\n",
    "        plt.clf()\n",
    "        plt.subplot(2,1,1)\n",
    "        plt.plot(ts[0:i+1],vs[0:i+1],'b-',linewidth=3)\n",
    "        plt.plot(ts[0:i+1],sps[0:i+1],'k--',linewidth=2)\n",
    "        plt.ylabel('Velocity (m/s)')\n",
    "        plt.legend(['Velocity','Set Point'],loc=2)\n",
    "        plt.subplot(2,1,2)\n",
    "        plt.plot(ts[0:i+1],step[0:i+1],'r--',linewidth=3)\n",
    "        plt.ylabel('Gas Pedal')    \n",
    "        plt.legend(['Gas Pedal (%)'])\n",
    "        plt.xlabel('Time (sec)')\n",
    "        plt.pause(0.1)    \n",
    "\n",
    "if not animate:\n",
    "    # plot results\n",
    "    plt.subplot(2,1,1)\n",
    "    plt.plot(ts,vs,'b-',linewidth=3)\n",
    "    plt.plot(ts,sps,'k--',linewidth=2)\n",
    "    plt.ylabel('Velocity (m/s)')\n",
    "    plt.legend(['Velocity','Set Point'],loc=2)\n",
    "    plt.subplot(2,1,2)\n",
    "    plt.plot(ts,step,'r--',linewidth=3)\n",
    "    plt.ylabel('Gas Pedal')    \n",
    "    plt.legend(['Gas Pedal (%)'])\n",
    "    plt.xlabel('Time (sec)')\n",
    "    plt.show()"
   ]
  }
 ],
 "metadata": {
  "kernelspec": {
   "display_name": "Python 3",
   "language": "python",
   "name": "python3"
  },
  "language_info": {
   "codemirror_mode": {
    "name": "ipython",
    "version": 3
   },
   "file_extension": ".py",
   "mimetype": "text/x-python",
   "name": "python",
   "nbconvert_exporter": "python",
   "pygments_lexer": "ipython3",
   "version": "3.8.5"
  }
 },
 "nbformat": 4,
 "nbformat_minor": 4
}
