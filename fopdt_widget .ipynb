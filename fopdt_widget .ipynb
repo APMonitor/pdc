{
 "cells": [
  {
   "cell_type": "code",
   "execution_count": null,
   "metadata": {},
   "outputs": [],
   "source": [
    "import ipywidgets as wg\n",
    "from IPython.display import display \n",
    "import numpy as np\n",
    "%matplotlib inline\n",
    "import matplotlib.pyplot as plt"
   ]
  },
  {
   "cell_type": "code",
   "execution_count": null,
   "metadata": {},
   "outputs": [],
   "source": [
    "def fopdtPlot(K,tau,theta):\n",
    "    n = 100 # time points to plot\n",
    "    t = np.linspace(0,20,100) # create time vector\n",
    "    # create 0 -> 1 step at t=theta\n",
    "    delay = np.empty_like(t)\n",
    "    for i in range(n):\n",
    "        if t[i] < theta:\n",
    "            delay[i] = 0.0\n",
    "        else:\n",
    "            delay[i] = 1.0\n",
    "    # calculate response to step input\n",
    "    x = K * (1.0-np.exp(-(t-theta)/tau))\n",
    "    y = x * delay\n",
    "    # plot response\n",
    "    plt.figure(1,figsize=(15,7))\n",
    "    plt.subplot(1,2,1)\n",
    "    plt.plot(t,y,'k-',linewidth=4,label=r'$y(t)=x(t-\\theta)*S(t-\\theta)$')\n",
    "    plt.legend(loc='best')\n",
    "    plt.ylim([-10,10])\n",
    "    plt.xlim([0,20])\n",
    "    plt.subplot(1,2,2)\n",
    "    plt.plot(t,x,'r--',linewidth=2,label=r'$x(t-\\theta)=K\\;(1-\\exp(-(t-\\theta)/\\tau))$')\n",
    "    plt.plot(t,delay,'g:',linewidth=2,label=r'$S(t-\\theta)$')\n",
    "    plt.xlabel('time')\n",
    "    plt.legend(loc='best')\n",
    "    plt.ylim([-10,10])\n",
    "    plt.xlim([0,20])"
   ]
  },
  {
   "cell_type": "code",
   "execution_count": null,
   "metadata": {},
   "outputs": [],
   "source": [
    "K_slide = wg.FloatSlider(value=8.0,min=-10.0,max=10.0,step=0.1)\n",
    "tau_slide = wg.FloatSlider(value=5.0,min=0.1,max=10.0,step=0.1)\n",
    "theta_slide = wg.FloatSlider(value=4.0,min=0.1,max=15.0,step=0.1)\n",
    "wg.interact(fopdtPlot, K=K_slide, tau=tau_slide, theta=theta_slide)"
   ]
  }
 ],
 "metadata": {
  "anaconda-cloud": {},
  "kernelspec": {
   "display_name": "Python 3",
   "language": "python",
   "name": "python3"
  },
  "language_info": {
   "codemirror_mode": {
    "name": "ipython",
    "version": 3
   },
   "file_extension": ".py",
   "mimetype": "text/x-python",
   "name": "python",
   "nbconvert_exporter": "python",
   "pygments_lexer": "ipython3",
   "version": "3.8.5"
  },
  "widgets": {
   "state": {
    "a092cb0fe79d4cad92170b523f18b3ed": {
     "views": [
      {
       "cell_index": 2
      }
     ]
    }
   },
   "version": "1.2.0"
  }
 },
 "nbformat": 4,
 "nbformat_minor": 1
}
